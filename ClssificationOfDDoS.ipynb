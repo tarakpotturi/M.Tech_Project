{
 "cells": [
  {
   "cell_type": "code",
   "execution_count": 3,
   "id": "73b7f7d3",
   "metadata": {},
   "outputs": [
    {
     "ename": "ModuleNotFoundError",
     "evalue": "No module named 'seaborn'",
     "output_type": "error",
     "traceback": [
      "\u001b[0;31m---------------------------------------------------------------------------\u001b[0m",
      "\u001b[0;31mModuleNotFoundError\u001b[0m                       Traceback (most recent call last)",
      "\u001b[0;32m/tmp/ipykernel_42932/626565393.py\u001b[0m in \u001b[0;36m<module>\u001b[0;34m\u001b[0m\n\u001b[1;32m      2\u001b[0m \u001b[0;32mimport\u001b[0m \u001b[0mnumpy\u001b[0m \u001b[0;32mas\u001b[0m \u001b[0mnp\u001b[0m\u001b[0;34m\u001b[0m\u001b[0;34m\u001b[0m\u001b[0m\n\u001b[1;32m      3\u001b[0m \u001b[0;32mimport\u001b[0m \u001b[0mmatplotlib\u001b[0m\u001b[0;34m.\u001b[0m\u001b[0mpyplot\u001b[0m \u001b[0;32mas\u001b[0m \u001b[0mplt\u001b[0m\u001b[0;34m\u001b[0m\u001b[0;34m\u001b[0m\u001b[0m\n\u001b[0;32m----> 4\u001b[0;31m \u001b[0;32mimport\u001b[0m \u001b[0mseaborn\u001b[0m \u001b[0;32mas\u001b[0m \u001b[0msns\u001b[0m\u001b[0;34m\u001b[0m\u001b[0;34m\u001b[0m\u001b[0m\n\u001b[0m\u001b[1;32m      5\u001b[0m \u001b[0;34m\u001b[0m\u001b[0m\n\u001b[1;32m      6\u001b[0m \u001b[0mplt\u001b[0m\u001b[0;34m.\u001b[0m\u001b[0mstyle\u001b[0m\u001b[0;34m.\u001b[0m\u001b[0muse\u001b[0m\u001b[0;34m(\u001b[0m\u001b[0;34m'ggplot'\u001b[0m\u001b[0;34m)\u001b[0m \u001b[0;31m# make plots look better\u001b[0m\u001b[0;34m\u001b[0m\u001b[0;34m\u001b[0m\u001b[0m\n",
      "\u001b[0;31mModuleNotFoundError\u001b[0m: No module named 'seaborn'"
     ]
    }
   ],
   "source": [
    "import pandas as pd\n",
    "import numpy as np\n",
    "import matplotlib.pyplot as plt\n",
    "import seaborn as sns\n",
    "\n",
    "plt.style.use('ggplot') # make plots look better"
   ]
  },
  {
   "cell_type": "code",
   "execution_count": 4,
   "id": "86fb2c75",
   "metadata": {},
   "outputs": [
    {
     "name": "stdout",
     "output_type": "stream",
     "text": [
      "/usr/lib/python3/dist-packages/secretstorage/dhcrypto.py:15: CryptographyDeprecationWarning: int_from_bytes is deprecated, use int.from_bytes instead\n",
      "  from cryptography.utils import int_from_bytes\n",
      "/usr/lib/python3/dist-packages/secretstorage/util.py:19: CryptographyDeprecationWarning: int_from_bytes is deprecated, use int.from_bytes instead\n",
      "  from cryptography.utils import int_from_bytes\n",
      "Collecting seaborn\n",
      "  Downloading seaborn-0.11.2-py3-none-any.whl (292 kB)\n",
      "\u001b[K     |████████████████████████████████| 292 kB 1.1 MB/s eta 0:00:01\n",
      "\u001b[?25hRequirement already satisfied: pandas>=0.23 in /home/tarakpotturi/.local/lib/python3.8/site-packages (from seaborn) (1.3.4)\n",
      "Requirement already satisfied: scipy>=1.0 in /home/tarakpotturi/.local/lib/python3.8/site-packages (from seaborn) (1.7.1)\n",
      "Requirement already satisfied: numpy>=1.15 in /home/tarakpotturi/.local/lib/python3.8/site-packages (from seaborn) (1.18.1)\n",
      "Requirement already satisfied: matplotlib>=2.2 in /home/tarakpotturi/.local/lib/python3.8/site-packages (from seaborn) (3.4.3)\n",
      "Requirement already satisfied: python-dateutil>=2.7.3 in /usr/lib/python3/dist-packages (from pandas>=0.23->seaborn) (2.7.3)\n",
      "Requirement already satisfied: pytz>=2017.3 in /usr/lib/python3/dist-packages (from pandas>=0.23->seaborn) (2019.3)\n",
      "Requirement already satisfied: kiwisolver>=1.0.1 in /home/tarakpotturi/.local/lib/python3.8/site-packages (from matplotlib>=2.2->seaborn) (1.3.2)\n",
      "Requirement already satisfied: cycler>=0.10 in /home/tarakpotturi/.local/lib/python3.8/site-packages (from matplotlib>=2.2->seaborn) (0.10.0)\n",
      "Requirement already satisfied: pyparsing>=2.2.1 in /home/tarakpotturi/.local/lib/python3.8/site-packages (from matplotlib>=2.2->seaborn) (3.0.3)\n",
      "Requirement already satisfied: pillow>=6.2.0 in /usr/lib/python3/dist-packages (from matplotlib>=2.2->seaborn) (7.0.0)\n",
      "Requirement already satisfied: six in /usr/lib/python3/dist-packages (from cycler>=0.10->matplotlib>=2.2->seaborn) (1.14.0)\n",
      "Installing collected packages: seaborn\n",
      "Successfully installed seaborn-0.11.2\n"
     ]
    }
   ],
   "source": [
    "!pip3 install seaborn"
   ]
  },
  {
   "cell_type": "code",
   "execution_count": 5,
   "id": "368fda50",
   "metadata": {},
   "outputs": [],
   "source": [
    "import pandas as pd\n",
    "import numpy as np\n",
    "import matplotlib.pyplot as plt\n",
    "import seaborn as sns\n",
    "\n",
    "plt.style.use('ggplot') # make plots look better"
   ]
  },
  {
   "cell_type": "code",
   "execution_count": 8,
   "id": "47834a89",
   "metadata": {},
   "outputs": [],
   "source": [
    "df = pd.read_csv(\"shuffled_features.csv\")"
   ]
  },
  {
   "cell_type": "code",
   "execution_count": 9,
   "id": "3b505224",
   "metadata": {},
   "outputs": [
    {
     "name": "stdout",
     "output_type": "stream",
     "text": [
      "   Duration of flow  no of packets  no of bytes  pair flows  \\\n",
      "0          3.000000     320.142857  31374.00000    1.142857   \n",
      "1          3.294873       0.199032     19.19956    0.000000   \n",
      "2          5.285714     542.714286  53186.00000    1.142857   \n",
      "3          6.285714     637.142857  62440.00000    1.142857   \n",
      "4          3.571429     390.142857  38234.00000    1.142857   \n",
      "\n",
      "   growth of single flows  growth of different ports  Label  \n",
      "0                0.000000                   0.579067      0  \n",
      "1             1574.048251                   0.207795      1  \n",
      "2                0.000000                   0.578682      0  \n",
      "3                0.000000                   0.578516      0  \n",
      "4                0.000000                   0.575637      0  \n"
     ]
    }
   ],
   "source": [
    "print(df.head())"
   ]
  },
  {
   "cell_type": "code",
   "execution_count": 10,
   "id": "e3493485",
   "metadata": {},
   "outputs": [
    {
     "name": "stdout",
     "output_type": "stream",
     "text": [
      "       Duration of flow  no of packets   no of bytes  pair flows  \\\n",
      "count         82.000000      82.000000     82.000000   82.000000   \n",
      "mean           3.782884     268.363618  26299.441157    0.710801   \n",
      "std            1.264996     241.168905  23634.770470    0.557582   \n",
      "min            1.285714       0.001931      0.081095    0.000000   \n",
      "25%            3.119129       0.115202     10.057572    0.000000   \n",
      "50%            3.335786     277.071429  27153.000000    1.142857   \n",
      "75%            4.285714     477.785714  46823.000000    1.142857   \n",
      "max            6.571429     683.142857  66948.000000    1.142857   \n",
      "\n",
      "       growth of single flows  growth of different ports      Label  \n",
      "count               82.000000                  82.000000  82.000000  \n",
      "mean               876.368022                   0.414248   0.378049  \n",
      "std               1316.831894                   0.212372   0.487884  \n",
      "min                  0.000000                   0.069403   0.000000  \n",
      "25%                  0.000000                   0.160687   0.000000  \n",
      "50%                  0.000000                   0.575201   0.000000  \n",
      "75%               1669.371649                   0.578583   1.000000  \n",
      "max               5571.678530                   0.586969   1.000000  \n"
     ]
    }
   ],
   "source": [
    "print (df.describe())"
   ]
  },
  {
   "cell_type": "code",
   "execution_count": 11,
   "id": "7f7ade11",
   "metadata": {},
   "outputs": [
    {
     "data": {
      "image/png": "[encoded data removed]",
      "text/plain": [
       "<Figure size 432x288 with 1 Axes>"
      ]
     },
     "metadata": {},
     "output_type": "display_data"
    }
   ],
   "source": [
    "df.plot.scatter(x=\"pair flows\", y=\"growth of single flows\")\n",
    "\n",
    "plt.show()"
   ]
  },
  {
   "cell_type": "code",
   "execution_count": 12,
   "id": "ce586b96",
   "metadata": {},
   "outputs": [
    {
     "data": {
      "image/png": "[encoded data removed]",
      "text/plain": [
       "<Figure size 258.375x216 with 1 Axes>"
      ]
     },
     "metadata": {},
     "output_type": "display_data"
    }
   ],
   "source": [
    "sns.FacetGrid(df, \n",
    "    hue=\"Label\").map(plt.scatter, \"pair flows\", \"growth of single flows\").add_legend()\n",
    "\n",
    "plt.show()"
   ]
  },
  {
   "cell_type": "code",
   "execution_count": 13,
   "id": "975247c7",
   "metadata": {},
   "outputs": [],
   "source": [
    "labels = np.asarray(df.Label)"
   ]
  },
  {
   "cell_type": "code",
   "execution_count": 15,
   "id": "d5e6466c",
   "metadata": {},
   "outputs": [],
   "source": [
    "from sklearn.preprocessing import LabelEncoder\n",
    "le = LabelEncoder()\n",
    "le.fit(labels)\n",
    "\n",
    "# apply encoding to labels\n",
    "labels = le.transform(labels)"
   ]
  },
  {
   "cell_type": "code",
   "execution_count": 16,
   "id": "b68a3f8a",
   "metadata": {},
   "outputs": [
    {
     "data": {
      "text/html": [
       "<div>\n",
       "<style scoped>\n",
       "    .dataframe tbody tr th:only-of-type {\n",
       "        vertical-align: middle;\n",
       "    }\n",
       "\n",
       "    .dataframe tbody tr th {\n",
       "        vertical-align: top;\n",
       "    }\n",
       "\n",
       "    .dataframe thead th {\n",
       "        text-align: right;\n",
       "    }\n",
       "</style>\n",
       "<table border=\"1\" class=\"dataframe\">\n",
       "  <thead>\n",
       "    <tr style=\"text-align: right;\">\n",
       "      <th></th>\n",
       "      <th>Duration of flow</th>\n",
       "      <th>no of packets</th>\n",
       "      <th>no of bytes</th>\n",
       "      <th>pair flows</th>\n",
       "      <th>growth of single flows</th>\n",
       "      <th>growth of different ports</th>\n",
       "      <th>Label</th>\n",
       "    </tr>\n",
       "  </thead>\n",
       "  <tbody>\n",
       "    <tr>\n",
       "      <th>59</th>\n",
       "      <td>3.341176</td>\n",
       "      <td>0.094964</td>\n",
       "      <td>8.988130</td>\n",
       "      <td>0.000000</td>\n",
       "      <td>1903.439548</td>\n",
       "      <td>0.150967</td>\n",
       "      <td>1</td>\n",
       "    </tr>\n",
       "    <tr>\n",
       "      <th>0</th>\n",
       "      <td>3.000000</td>\n",
       "      <td>320.142857</td>\n",
       "      <td>31374.000000</td>\n",
       "      <td>1.142857</td>\n",
       "      <td>0.000000</td>\n",
       "      <td>0.579067</td>\n",
       "      <td>0</td>\n",
       "    </tr>\n",
       "    <tr>\n",
       "      <th>4</th>\n",
       "      <td>3.571429</td>\n",
       "      <td>390.142857</td>\n",
       "      <td>38234.000000</td>\n",
       "      <td>1.142857</td>\n",
       "      <td>0.000000</td>\n",
       "      <td>0.575637</td>\n",
       "      <td>0</td>\n",
       "    </tr>\n",
       "    <tr>\n",
       "      <th>68</th>\n",
       "      <td>3.197117</td>\n",
       "      <td>0.100339</td>\n",
       "      <td>9.591995</td>\n",
       "      <td>0.000000</td>\n",
       "      <td>1737.659757</td>\n",
       "      <td>0.176831</td>\n",
       "      <td>1</td>\n",
       "    </tr>\n",
       "    <tr>\n",
       "      <th>38</th>\n",
       "      <td>3.285714</td>\n",
       "      <td>360.142857</td>\n",
       "      <td>35294.000000</td>\n",
       "      <td>1.142857</td>\n",
       "      <td>0.000000</td>\n",
       "      <td>0.578733</td>\n",
       "      <td>0</td>\n",
       "    </tr>\n",
       "  </tbody>\n",
       "</table>\n",
       "</div>"
      ],
      "text/plain": [
       "    Duration of flow  no of packets   no of bytes  pair flows  \\\n",
       "59          3.341176       0.094964      8.988130    0.000000   \n",
       "0           3.000000     320.142857  31374.000000    1.142857   \n",
       "4           3.571429     390.142857  38234.000000    1.142857   \n",
       "68          3.197117       0.100339      9.591995    0.000000   \n",
       "38          3.285714     360.142857  35294.000000    1.142857   \n",
       "\n",
       "    growth of single flows  growth of different ports  Label  \n",
       "59             1903.439548                   0.150967      1  \n",
       "0                 0.000000                   0.579067      0  \n",
       "4                 0.000000                   0.575637      0  \n",
       "68             1737.659757                   0.176831      1  \n",
       "38                0.000000                   0.578733      0  "
      ]
     },
     "execution_count": 16,
     "metadata": {},
     "output_type": "execute_result"
    }
   ],
   "source": [
    "df.sample(5)"
   ]
  },
  {
   "cell_type": "code",
   "execution_count": 18,
   "id": "2780e437",
   "metadata": {},
   "outputs": [],
   "source": [
    "df_selected = df.drop(['pair flows', 'growth of single flows', \"Label\"], axis=1)"
   ]
  },
  {
   "cell_type": "code",
   "execution_count": 19,
   "id": "15b07904",
   "metadata": {},
   "outputs": [],
   "source": [
    "df_features = df_selected.to_dict(orient='records')"
   ]
  },
  {
   "cell_type": "code",
   "execution_count": 20,
   "id": "33712bf6",
   "metadata": {},
   "outputs": [],
   "source": [
    "from sklearn.feature_extraction import DictVectorizer\n",
    "vec = DictVectorizer()\n",
    "features = vec.fit_transform(df_features).toarray()"
   ]
  },
  {
   "cell_type": "code",
   "execution_count": 21,
   "id": "2df6678f",
   "metadata": {},
   "outputs": [],
   "source": [
    "from sklearn.model_selection import train_test_split\n",
    "\n",
    "features_train, features_test, labels_train, labels_test = train_test_split(\n",
    "    features, labels, \n",
    "    test_size=0.20, random_state=42)"
   ]
  },
  {
   "cell_type": "code",
   "execution_count": 22,
   "id": "76762097",
   "metadata": {},
   "outputs": [
    {
     "data": {
      "text/plain": [
       "RandomForestClassifier()"
      ]
     },
     "execution_count": 22,
     "metadata": {},
     "output_type": "execute_result"
    }
   ],
   "source": [
    "# import\n",
    "from sklearn.ensemble import RandomForestClassifier\n",
    "\n",
    "# initialize\n",
    "clf = RandomForestClassifier()\n",
    "\n",
    "# train the classifier using the training data\n",
    "clf.fit(features_train, labels_train)"
   ]
  },
  {
   "cell_type": "code",
   "execution_count": 23,
   "id": "b2095bc4",
   "metadata": {},
   "outputs": [
    {
     "name": "stdout",
     "output_type": "stream",
     "text": [
      "Test Accuracy: 1.0\n"
     ]
    }
   ],
   "source": [
    "# compute accuracy using test data\n",
    "acc_test = clf.score(features_test, labels_test)\n",
    "\n",
    "print (\"Test Accuracy:\", acc_test)\n",
    "# Test Accuracy: 0.98"
   ]
  },
  {
   "cell_type": "code",
   "execution_count": 24,
   "id": "651cbf76",
   "metadata": {},
   "outputs": [
    {
     "name": "stdout",
     "output_type": "stream",
     "text": [
      "Train Accuracy: 1.0\n"
     ]
    }
   ],
   "source": [
    "# compute accuracy using training data\n",
    "acc_train = clf.score(features_train, labels_train)\n",
    "\n",
    "print (\"Train Accuracy:\", acc_train)\n",
    "# Train Accuracy: 0.98"
   ]
  },
  {
   "cell_type": "code",
   "execution_count": 26,
   "id": "3e95d30c",
   "metadata": {},
   "outputs": [],
   "source": [
    "from sklearn.svm import SVC\n",
    "clf = SVC()"
   ]
  },
  {
   "cell_type": "code",
   "execution_count": 27,
   "id": "e0a83da3",
   "metadata": {},
   "outputs": [
    {
     "data": {
      "text/plain": [
       "SVC()"
      ]
     },
     "execution_count": 27,
     "metadata": {},
     "output_type": "execute_result"
    }
   ],
   "source": [
    "clf.fit(features_train, labels_train)"
   ]
  },
  {
   "cell_type": "code",
   "execution_count": 28,
   "id": "2e523a17",
   "metadata": {},
   "outputs": [
    {
     "name": "stdout",
     "output_type": "stream",
     "text": [
      "Test Accuracy: 1.0\n"
     ]
    }
   ],
   "source": [
    "# compute accuracy using test data\n",
    "acc_test = clf.score(features_test, labels_test)\n",
    "\n",
    "print (\"Test Accuracy:\", acc_test)\n",
    "# Test Accuracy: 0.98"
   ]
  },
  {
   "cell_type": "code",
   "execution_count": null,
   "id": "5502e103",
   "metadata": {},
   "outputs": [],
   "source": []
  }
 ],
 "metadata": {
  "kernelspec": {
   "display_name": "Python 3 (ipykernel)",
   "language": "python",
   "name": "python3"
  },
  "language_info": {
   "codemirror_mode": {
    "name": "ipython",
    "version": 3
   },
   "file_extension": ".py",
   "mimetype": "text/x-python",
   "name": "python",
   "nbconvert_exporter": "python",
   "pygments_lexer": "ipython3",
   "version": "3.8.10"
  }
 },
 "nbformat": 4,
 "nbformat_minor": 5
}
